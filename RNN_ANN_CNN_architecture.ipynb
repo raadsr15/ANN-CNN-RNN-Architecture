{
  "nbformat": 4,
  "nbformat_minor": 0,
  "metadata": {
    "colab": {
      "provenance": []
    },
    "kernelspec": {
      "name": "python3",
      "display_name": "Python 3"
    },
    "language_info": {
      "name": "python"
    }
  },
  "cells": [
    {
      "cell_type": "code",
      "source": [
        "from tensorflow.keras.models import Sequential\n",
        "from tensorflow.keras.layers import SimpleRNN, Dense\n",
        "import numpy as np\n",
        "\n",
        "# Build a simple RNN model for binary classification from sequence data\n",
        "\n",
        "# Create a sequential model\n",
        "model = Sequential()\n",
        "\n",
        "# Add a SimpleRNN layer\n",
        "# - 3 units (RNN cells)\n",
        "# - Input shape: 4 timesteps, each with 5 features\n",
        "model.add(SimpleRNN(3, input_shape=(4, 5), activation='tanh'))\n",
        "\n",
        "# Add an output layer with 1 neuron and sigmoid activation (binary classification)\n",
        "model.add(Dense(1, activation='sigmoid'))\n",
        "\n",
        "# Compile the model\n",
        "model.compile(optimizer='rmsprop', loss='binary_crossentropy', metrics=['accuracy'])\n",
        "\n",
        "# Print the model summary\n",
        "model.summary()\n",
        "\n",
        "# Get all trainable weights and their names\n",
        "weights = model.weights\n",
        "\n",
        "# Iterate and print each weight/bias with its name, shape, and values\n",
        "print(\"\\n===== DETAILED WEIGHTS & BIASES =====\")\n",
        "for i, w in enumerate(weights):\n",
        "    weight_name = w.name\n",
        "    weight_value = model.get_weights()[i]\n",
        "    print(f\"\\n[{i}] {weight_name}\")\n",
        "    print(f\"Shape: {weight_value.shape}\")\n",
        "    print(\"Values:\\n\", weight_value)"
      ],
      "metadata": {
        "colab": {
          "base_uri": "https://localhost:8080/",
          "height": 836
        },
        "id": "t9R9IFMxzKPg",
        "outputId": "6c7e8de7-225e-485d-f542-0a0380ae5f79"
      },
      "execution_count": 16,
      "outputs": [
        {
          "output_type": "display_data",
          "data": {
            "text/plain": [
              "\u001b[1mModel: \"sequential_4\"\u001b[0m\n"
            ],
            "text/html": [
              "<pre style=\"white-space:pre;overflow-x:auto;line-height:normal;font-family:Menlo,'DejaVu Sans Mono',consolas,'Courier New',monospace\"><span style=\"font-weight: bold\">Model: \"sequential_4\"</span>\n",
              "</pre>\n"
            ]
          },
          "metadata": {}
        },
        {
          "output_type": "display_data",
          "data": {
            "text/plain": [
              "┏━━━━━━━━━━━━━━━━━━━━━━━━━━━━━━━━━┳━━━━━━━━━━━━━━━━━━━━━━━━┳━━━━━━━━━━━━━━━┓\n",
              "┃\u001b[1m \u001b[0m\u001b[1mLayer (type)                   \u001b[0m\u001b[1m \u001b[0m┃\u001b[1m \u001b[0m\u001b[1mOutput Shape          \u001b[0m\u001b[1m \u001b[0m┃\u001b[1m \u001b[0m\u001b[1m      Param #\u001b[0m\u001b[1m \u001b[0m┃\n",
              "┡━━━━━━━━━━━━━━━━━━━━━━━━━━━━━━━━━╇━━━━━━━━━━━━━━━━━━━━━━━━╇━━━━━━━━━━━━━━━┩\n",
              "│ simple_rnn_4 (\u001b[38;5;33mSimpleRNN\u001b[0m)        │ (\u001b[38;5;45mNone\u001b[0m, \u001b[38;5;34m3\u001b[0m)              │            \u001b[38;5;34m27\u001b[0m │\n",
              "├─────────────────────────────────┼────────────────────────┼───────────────┤\n",
              "│ dense_4 (\u001b[38;5;33mDense\u001b[0m)                 │ (\u001b[38;5;45mNone\u001b[0m, \u001b[38;5;34m1\u001b[0m)              │             \u001b[38;5;34m4\u001b[0m │\n",
              "└─────────────────────────────────┴────────────────────────┴───────────────┘\n"
            ],
            "text/html": [
              "<pre style=\"white-space:pre;overflow-x:auto;line-height:normal;font-family:Menlo,'DejaVu Sans Mono',consolas,'Courier New',monospace\">┏━━━━━━━━━━━━━━━━━━━━━━━━━━━━━━━━━┳━━━━━━━━━━━━━━━━━━━━━━━━┳━━━━━━━━━━━━━━━┓\n",
              "┃<span style=\"font-weight: bold\"> Layer (type)                    </span>┃<span style=\"font-weight: bold\"> Output Shape           </span>┃<span style=\"font-weight: bold\">       Param # </span>┃\n",
              "┡━━━━━━━━━━━━━━━━━━━━━━━━━━━━━━━━━╇━━━━━━━━━━━━━━━━━━━━━━━━╇━━━━━━━━━━━━━━━┩\n",
              "│ simple_rnn_4 (<span style=\"color: #0087ff; text-decoration-color: #0087ff\">SimpleRNN</span>)        │ (<span style=\"color: #00d7ff; text-decoration-color: #00d7ff\">None</span>, <span style=\"color: #00af00; text-decoration-color: #00af00\">3</span>)              │            <span style=\"color: #00af00; text-decoration-color: #00af00\">27</span> │\n",
              "├─────────────────────────────────┼────────────────────────┼───────────────┤\n",
              "│ dense_4 (<span style=\"color: #0087ff; text-decoration-color: #0087ff\">Dense</span>)                 │ (<span style=\"color: #00d7ff; text-decoration-color: #00d7ff\">None</span>, <span style=\"color: #00af00; text-decoration-color: #00af00\">1</span>)              │             <span style=\"color: #00af00; text-decoration-color: #00af00\">4</span> │\n",
              "└─────────────────────────────────┴────────────────────────┴───────────────┘\n",
              "</pre>\n"
            ]
          },
          "metadata": {}
        },
        {
          "output_type": "display_data",
          "data": {
            "text/plain": [
              "\u001b[1m Total params: \u001b[0m\u001b[38;5;34m31\u001b[0m (124.00 B)\n"
            ],
            "text/html": [
              "<pre style=\"white-space:pre;overflow-x:auto;line-height:normal;font-family:Menlo,'DejaVu Sans Mono',consolas,'Courier New',monospace\"><span style=\"font-weight: bold\"> Total params: </span><span style=\"color: #00af00; text-decoration-color: #00af00\">31</span> (124.00 B)\n",
              "</pre>\n"
            ]
          },
          "metadata": {}
        },
        {
          "output_type": "display_data",
          "data": {
            "text/plain": [
              "\u001b[1m Trainable params: \u001b[0m\u001b[38;5;34m31\u001b[0m (124.00 B)\n"
            ],
            "text/html": [
              "<pre style=\"white-space:pre;overflow-x:auto;line-height:normal;font-family:Menlo,'DejaVu Sans Mono',consolas,'Courier New',monospace\"><span style=\"font-weight: bold\"> Trainable params: </span><span style=\"color: #00af00; text-decoration-color: #00af00\">31</span> (124.00 B)\n",
              "</pre>\n"
            ]
          },
          "metadata": {}
        },
        {
          "output_type": "display_data",
          "data": {
            "text/plain": [
              "\u001b[1m Non-trainable params: \u001b[0m\u001b[38;5;34m0\u001b[0m (0.00 B)\n"
            ],
            "text/html": [
              "<pre style=\"white-space:pre;overflow-x:auto;line-height:normal;font-family:Menlo,'DejaVu Sans Mono',consolas,'Courier New',monospace\"><span style=\"font-weight: bold\"> Non-trainable params: </span><span style=\"color: #00af00; text-decoration-color: #00af00\">0</span> (0.00 B)\n",
              "</pre>\n"
            ]
          },
          "metadata": {}
        },
        {
          "output_type": "stream",
          "name": "stdout",
          "text": [
            "\n",
            "===== DETAILED WEIGHTS & BIASES =====\n",
            "\n",
            "[0] kernel\n",
            "Shape: (5, 3)\n",
            "Values:\n",
            " [[ 0.64978164  0.10931486  0.4198826 ]\n",
            " [-0.33345097  0.8464332   0.70021445]\n",
            " [ 0.4788621   0.24449831  0.72215337]\n",
            " [ 0.80185264 -0.77968395 -0.80823797]\n",
            " [ 0.7393066  -0.13088489  0.57299465]]\n",
            "\n",
            "[1] recurrent_kernel\n",
            "Shape: (3, 3)\n",
            "Values:\n",
            " [[-0.73666966  0.5871845   0.3354583 ]\n",
            " [ 0.33236286  0.74637973 -0.57658684]\n",
            " [ 0.58894205  0.31326014  0.7449935 ]]\n",
            "\n",
            "[2] bias\n",
            "Shape: (3,)\n",
            "Values:\n",
            " [0. 0. 0.]\n",
            "\n",
            "[3] kernel\n",
            "Shape: (3, 1)\n",
            "Values:\n",
            " [[ 0.07727563]\n",
            " [-0.23624241]\n",
            " [-0.27726054]]\n",
            "\n",
            "[4] bias\n",
            "Shape: (1,)\n",
            "Values:\n",
            " [0.]\n"
          ]
        }
      ]
    },
    {
      "cell_type": "code",
      "source": [
        "from tensorflow.keras.models import Sequential\n",
        "from tensorflow.keras.layers import Dense\n",
        "import numpy as np\n",
        "\n",
        "# Build a simple ANN for binary classification\n",
        "\n",
        "# Create a sequential model\n",
        "model_ann = Sequential()\n",
        "\n",
        "# Input layer and first hidden layer\n",
        "# Input has 10 features, and we use 8 neurons in the hidden layer with ReLU activation\n",
        "model_ann.add(Dense(8, input_dim=10, activation='relu'))\n",
        "\n",
        "# Second hidden layer with 4 neurons\n",
        "model_ann.add(Dense(4, activation='relu'))\n",
        "\n",
        "# Output layer with 1 neuron (for binary classification) and sigmoid activation\n",
        "model_ann.add(Dense(1, activation='sigmoid'))\n",
        "\n",
        "# Compile the model using binary crossentropy loss and Adam optimizer\n",
        "model_ann.compile(optimizer='adam', loss='binary_crossentropy', metrics=['accuracy'])\n",
        "\n",
        "# Print model summary\n",
        "model_ann.summary()\n",
        "\n",
        "# Print weights and biases\n",
        "print(\"\\n===== ANN Weights & Biases =====\")\n",
        "for i, w in enumerate(model_ann.weights):\n",
        "    print(f\"\\n[{i}] {w.name}\")\n",
        "    print(f\"Shape: {w.shape}\")\n",
        "    print(\"Values:\\n\", model_ann.get_weights()[i])"
      ],
      "metadata": {
        "colab": {
          "base_uri": "https://localhost:8080/",
          "height": 1000
        },
        "id": "U4ynfYIdzOz7",
        "outputId": "aeb7d37a-1b28-44a0-a274-90fd97026d9b"
      },
      "execution_count": 17,
      "outputs": [
        {
          "output_type": "stream",
          "name": "stderr",
          "text": [
            "/usr/local/lib/python3.11/dist-packages/keras/src/layers/core/dense.py:87: UserWarning: Do not pass an `input_shape`/`input_dim` argument to a layer. When using Sequential models, prefer using an `Input(shape)` object as the first layer in the model instead.\n",
            "  super().__init__(activity_regularizer=activity_regularizer, **kwargs)\n"
          ]
        },
        {
          "output_type": "display_data",
          "data": {
            "text/plain": [
              "\u001b[1mModel: \"sequential_5\"\u001b[0m\n"
            ],
            "text/html": [
              "<pre style=\"white-space:pre;overflow-x:auto;line-height:normal;font-family:Menlo,'DejaVu Sans Mono',consolas,'Courier New',monospace\"><span style=\"font-weight: bold\">Model: \"sequential_5\"</span>\n",
              "</pre>\n"
            ]
          },
          "metadata": {}
        },
        {
          "output_type": "display_data",
          "data": {
            "text/plain": [
              "┏━━━━━━━━━━━━━━━━━━━━━━━━━━━━━━━━━┳━━━━━━━━━━━━━━━━━━━━━━━━┳━━━━━━━━━━━━━━━┓\n",
              "┃\u001b[1m \u001b[0m\u001b[1mLayer (type)                   \u001b[0m\u001b[1m \u001b[0m┃\u001b[1m \u001b[0m\u001b[1mOutput Shape          \u001b[0m\u001b[1m \u001b[0m┃\u001b[1m \u001b[0m\u001b[1m      Param #\u001b[0m\u001b[1m \u001b[0m┃\n",
              "┡━━━━━━━━━━━━━━━━━━━━━━━━━━━━━━━━━╇━━━━━━━━━━━━━━━━━━━━━━━━╇━━━━━━━━━━━━━━━┩\n",
              "│ dense_5 (\u001b[38;5;33mDense\u001b[0m)                 │ (\u001b[38;5;45mNone\u001b[0m, \u001b[38;5;34m8\u001b[0m)              │            \u001b[38;5;34m88\u001b[0m │\n",
              "├─────────────────────────────────┼────────────────────────┼───────────────┤\n",
              "│ dense_6 (\u001b[38;5;33mDense\u001b[0m)                 │ (\u001b[38;5;45mNone\u001b[0m, \u001b[38;5;34m4\u001b[0m)              │            \u001b[38;5;34m36\u001b[0m │\n",
              "├─────────────────────────────────┼────────────────────────┼───────────────┤\n",
              "│ dense_7 (\u001b[38;5;33mDense\u001b[0m)                 │ (\u001b[38;5;45mNone\u001b[0m, \u001b[38;5;34m1\u001b[0m)              │             \u001b[38;5;34m5\u001b[0m │\n",
              "└─────────────────────────────────┴────────────────────────┴───────────────┘\n"
            ],
            "text/html": [
              "<pre style=\"white-space:pre;overflow-x:auto;line-height:normal;font-family:Menlo,'DejaVu Sans Mono',consolas,'Courier New',monospace\">┏━━━━━━━━━━━━━━━━━━━━━━━━━━━━━━━━━┳━━━━━━━━━━━━━━━━━━━━━━━━┳━━━━━━━━━━━━━━━┓\n",
              "┃<span style=\"font-weight: bold\"> Layer (type)                    </span>┃<span style=\"font-weight: bold\"> Output Shape           </span>┃<span style=\"font-weight: bold\">       Param # </span>┃\n",
              "┡━━━━━━━━━━━━━━━━━━━━━━━━━━━━━━━━━╇━━━━━━━━━━━━━━━━━━━━━━━━╇━━━━━━━━━━━━━━━┩\n",
              "│ dense_5 (<span style=\"color: #0087ff; text-decoration-color: #0087ff\">Dense</span>)                 │ (<span style=\"color: #00d7ff; text-decoration-color: #00d7ff\">None</span>, <span style=\"color: #00af00; text-decoration-color: #00af00\">8</span>)              │            <span style=\"color: #00af00; text-decoration-color: #00af00\">88</span> │\n",
              "├─────────────────────────────────┼────────────────────────┼───────────────┤\n",
              "│ dense_6 (<span style=\"color: #0087ff; text-decoration-color: #0087ff\">Dense</span>)                 │ (<span style=\"color: #00d7ff; text-decoration-color: #00d7ff\">None</span>, <span style=\"color: #00af00; text-decoration-color: #00af00\">4</span>)              │            <span style=\"color: #00af00; text-decoration-color: #00af00\">36</span> │\n",
              "├─────────────────────────────────┼────────────────────────┼───────────────┤\n",
              "│ dense_7 (<span style=\"color: #0087ff; text-decoration-color: #0087ff\">Dense</span>)                 │ (<span style=\"color: #00d7ff; text-decoration-color: #00d7ff\">None</span>, <span style=\"color: #00af00; text-decoration-color: #00af00\">1</span>)              │             <span style=\"color: #00af00; text-decoration-color: #00af00\">5</span> │\n",
              "└─────────────────────────────────┴────────────────────────┴───────────────┘\n",
              "</pre>\n"
            ]
          },
          "metadata": {}
        },
        {
          "output_type": "display_data",
          "data": {
            "text/plain": [
              "\u001b[1m Total params: \u001b[0m\u001b[38;5;34m129\u001b[0m (516.00 B)\n"
            ],
            "text/html": [
              "<pre style=\"white-space:pre;overflow-x:auto;line-height:normal;font-family:Menlo,'DejaVu Sans Mono',consolas,'Courier New',monospace\"><span style=\"font-weight: bold\"> Total params: </span><span style=\"color: #00af00; text-decoration-color: #00af00\">129</span> (516.00 B)\n",
              "</pre>\n"
            ]
          },
          "metadata": {}
        },
        {
          "output_type": "display_data",
          "data": {
            "text/plain": [
              "\u001b[1m Trainable params: \u001b[0m\u001b[38;5;34m129\u001b[0m (516.00 B)\n"
            ],
            "text/html": [
              "<pre style=\"white-space:pre;overflow-x:auto;line-height:normal;font-family:Menlo,'DejaVu Sans Mono',consolas,'Courier New',monospace\"><span style=\"font-weight: bold\"> Trainable params: </span><span style=\"color: #00af00; text-decoration-color: #00af00\">129</span> (516.00 B)\n",
              "</pre>\n"
            ]
          },
          "metadata": {}
        },
        {
          "output_type": "display_data",
          "data": {
            "text/plain": [
              "\u001b[1m Non-trainable params: \u001b[0m\u001b[38;5;34m0\u001b[0m (0.00 B)\n"
            ],
            "text/html": [
              "<pre style=\"white-space:pre;overflow-x:auto;line-height:normal;font-family:Menlo,'DejaVu Sans Mono',consolas,'Courier New',monospace\"><span style=\"font-weight: bold\"> Non-trainable params: </span><span style=\"color: #00af00; text-decoration-color: #00af00\">0</span> (0.00 B)\n",
              "</pre>\n"
            ]
          },
          "metadata": {}
        },
        {
          "output_type": "stream",
          "name": "stdout",
          "text": [
            "\n",
            "===== ANN Weights & Biases =====\n",
            "\n",
            "[0] kernel\n",
            "Shape: (10, 8)\n",
            "Values:\n",
            " [[ 0.36452526 -0.34380546 -0.3827793  -0.16437185 -0.08455202 -0.548106\n",
            "  -0.30280116 -0.5589115 ]\n",
            " [-0.55087817  0.15405267 -0.53007305  0.315288   -0.33390918 -0.14504659\n",
            "  -0.5190651  -0.10248476]\n",
            " [ 0.5535724   0.0369845   0.39632195 -0.22236821  0.00165606  0.45754075\n",
            "   0.44539416  0.26554477]\n",
            " [ 0.38028288  0.10219777  0.19711655  0.42203087  0.34858745  0.26028544\n",
            "   0.52408767  0.27285725]\n",
            " [ 0.39188576  0.07100302 -0.41222823 -0.02960253 -0.02848095 -0.05577123\n",
            "   0.06776285 -0.4912304 ]\n",
            " [-0.29889655  0.2748518  -0.41151917  0.3716454  -0.3145567   0.11488688\n",
            "   0.08508813  0.48993874]\n",
            " [-0.42033285 -0.34880868 -0.30506855 -0.33793247  0.24615264  0.19241452\n",
            "  -0.40187603 -0.23702487]\n",
            " [-0.09529993  0.2943315   0.19059575 -0.35071278  0.10176319 -0.3953588\n",
            "  -0.2848809  -0.49961555]\n",
            " [ 0.16807204 -0.08857265  0.25529367  0.37386942 -0.31048787 -0.00946188\n",
            "  -0.4771937   0.19601369]\n",
            " [-0.4069909  -0.41661447 -0.06980228 -0.49657086 -0.25532615  0.09786892\n",
            "   0.01401728  0.5108321 ]]\n",
            "\n",
            "[1] bias\n",
            "Shape: (8,)\n",
            "Values:\n",
            " [0. 0. 0. 0. 0. 0. 0. 0.]\n",
            "\n",
            "[2] kernel\n",
            "Shape: (8, 4)\n",
            "Values:\n",
            " [[-0.14407784  0.03057164  0.6405793  -0.17419612]\n",
            " [-0.27760443 -0.11743444 -0.574141    0.6728392 ]\n",
            " [ 0.3633842   0.69079894  0.02980793  0.52691966]\n",
            " [ 0.29954118 -0.3977462   0.2692799  -0.00834894]\n",
            " [-0.25731745 -0.4902201   0.3265068  -0.17851013]\n",
            " [ 0.14550239 -0.561806   -0.46116543 -0.06976414]\n",
            " [-0.27771267  0.36948806 -0.55732477  0.14545757]\n",
            " [-0.04835033 -0.08516699  0.44551224  0.59779066]]\n",
            "\n",
            "[3] bias\n",
            "Shape: (4,)\n",
            "Values:\n",
            " [0. 0. 0. 0.]\n",
            "\n",
            "[4] kernel\n",
            "Shape: (4, 1)\n",
            "Values:\n",
            " [[ 0.827868  ]\n",
            " [-0.29665685]\n",
            " [-0.66867065]\n",
            " [-0.19768977]]\n",
            "\n",
            "[5] bias\n",
            "Shape: (1,)\n",
            "Values:\n",
            " [0.]\n"
          ]
        }
      ]
    },
    {
      "cell_type": "code",
      "source": [
        "from tensorflow.keras.models import Sequential\n",
        "from tensorflow.keras.layers import Conv2D, MaxPooling2D, Flatten, Dense\n",
        "import numpy as np\n",
        "\n",
        "# Build a simple CNN for image classification (e.g., MNIST-like 28×28 grayscale images)\n",
        "\n",
        "# Create a sequential model\n",
        "model_cnn = Sequential()\n",
        "\n",
        "# Add a convolutional layer:\n",
        "# - 32 filters\n",
        "# - 3x3 kernel size\n",
        "# - Input shape: 28x28 image with 1 channel (grayscale)\n",
        "model_cnn.add(Conv2D(32, (3, 3), activation='relu', input_shape=(28, 28, 1)))\n",
        "\n",
        "# Add a max pooling layer (downsamples 2x2)\n",
        "model_cnn.add(MaxPooling2D(pool_size=(2, 2)))\n",
        "\n",
        "# Flatten the 2D feature maps into 1D\n",
        "model_cnn.add(Flatten())\n",
        "\n",
        "# Add a fully connected hidden layer with 64 neurons\n",
        "model_cnn.add(Dense(64, activation='relu'))\n",
        "\n",
        "# Add an output layer for 10-class classification (softmax)\n",
        "model_cnn.add(Dense(10, activation='softmax'))\n",
        "\n",
        "# Compile the model using categorical crossentropy (for multiclass classification)\n",
        "model_cnn.compile(optimizer='adam', loss='categorical_crossentropy', metrics=['accuracy'])\n",
        "\n",
        "# Print model summary\n",
        "model_cnn.summary()\n",
        "\n",
        "# Print weights and biases\n",
        "print(\"\\n===== CNN Weights & Biases =====\")\n",
        "for i, w in enumerate(model_cnn.weights):\n",
        "    print(f\"\\n[{i}] {w.name}\")\n",
        "    print(f\"Shape: {w.shape}\")\n",
        "    print(\"Values:\\n\", model_cnn.get_weights()[i])"
      ],
      "metadata": {
        "colab": {
          "base_uri": "https://localhost:8080/",
          "height": 1000
        },
        "id": "BIgp1EWIzWlj",
        "outputId": "ed52aee2-8617-43b3-8ec1-588c00e88376"
      },
      "execution_count": 18,
      "outputs": [
        {
          "output_type": "stream",
          "name": "stderr",
          "text": [
            "/usr/local/lib/python3.11/dist-packages/keras/src/layers/convolutional/base_conv.py:107: UserWarning: Do not pass an `input_shape`/`input_dim` argument to a layer. When using Sequential models, prefer using an `Input(shape)` object as the first layer in the model instead.\n",
            "  super().__init__(activity_regularizer=activity_regularizer, **kwargs)\n"
          ]
        },
        {
          "output_type": "display_data",
          "data": {
            "text/plain": [
              "\u001b[1mModel: \"sequential_6\"\u001b[0m\n"
            ],
            "text/html": [
              "<pre style=\"white-space:pre;overflow-x:auto;line-height:normal;font-family:Menlo,'DejaVu Sans Mono',consolas,'Courier New',monospace\"><span style=\"font-weight: bold\">Model: \"sequential_6\"</span>\n",
              "</pre>\n"
            ]
          },
          "metadata": {}
        },
        {
          "output_type": "display_data",
          "data": {
            "text/plain": [
              "┏━━━━━━━━━━━━━━━━━━━━━━━━━━━━━━━━━┳━━━━━━━━━━━━━━━━━━━━━━━━┳━━━━━━━━━━━━━━━┓\n",
              "┃\u001b[1m \u001b[0m\u001b[1mLayer (type)                   \u001b[0m\u001b[1m \u001b[0m┃\u001b[1m \u001b[0m\u001b[1mOutput Shape          \u001b[0m\u001b[1m \u001b[0m┃\u001b[1m \u001b[0m\u001b[1m      Param #\u001b[0m\u001b[1m \u001b[0m┃\n",
              "┡━━━━━━━━━━━━━━━━━━━━━━━━━━━━━━━━━╇━━━━━━━━━━━━━━━━━━━━━━━━╇━━━━━━━━━━━━━━━┩\n",
              "│ conv2d (\u001b[38;5;33mConv2D\u001b[0m)                 │ (\u001b[38;5;45mNone\u001b[0m, \u001b[38;5;34m26\u001b[0m, \u001b[38;5;34m26\u001b[0m, \u001b[38;5;34m32\u001b[0m)     │           \u001b[38;5;34m320\u001b[0m │\n",
              "├─────────────────────────────────┼────────────────────────┼───────────────┤\n",
              "│ max_pooling2d (\u001b[38;5;33mMaxPooling2D\u001b[0m)    │ (\u001b[38;5;45mNone\u001b[0m, \u001b[38;5;34m13\u001b[0m, \u001b[38;5;34m13\u001b[0m, \u001b[38;5;34m32\u001b[0m)     │             \u001b[38;5;34m0\u001b[0m │\n",
              "├─────────────────────────────────┼────────────────────────┼───────────────┤\n",
              "│ flatten (\u001b[38;5;33mFlatten\u001b[0m)               │ (\u001b[38;5;45mNone\u001b[0m, \u001b[38;5;34m5408\u001b[0m)           │             \u001b[38;5;34m0\u001b[0m │\n",
              "├─────────────────────────────────┼────────────────────────┼───────────────┤\n",
              "│ dense_8 (\u001b[38;5;33mDense\u001b[0m)                 │ (\u001b[38;5;45mNone\u001b[0m, \u001b[38;5;34m64\u001b[0m)             │       \u001b[38;5;34m346,176\u001b[0m │\n",
              "├─────────────────────────────────┼────────────────────────┼───────────────┤\n",
              "│ dense_9 (\u001b[38;5;33mDense\u001b[0m)                 │ (\u001b[38;5;45mNone\u001b[0m, \u001b[38;5;34m10\u001b[0m)             │           \u001b[38;5;34m650\u001b[0m │\n",
              "└─────────────────────────────────┴────────────────────────┴───────────────┘\n"
            ],
            "text/html": [
              "<pre style=\"white-space:pre;overflow-x:auto;line-height:normal;font-family:Menlo,'DejaVu Sans Mono',consolas,'Courier New',monospace\">┏━━━━━━━━━━━━━━━━━━━━━━━━━━━━━━━━━┳━━━━━━━━━━━━━━━━━━━━━━━━┳━━━━━━━━━━━━━━━┓\n",
              "┃<span style=\"font-weight: bold\"> Layer (type)                    </span>┃<span style=\"font-weight: bold\"> Output Shape           </span>┃<span style=\"font-weight: bold\">       Param # </span>┃\n",
              "┡━━━━━━━━━━━━━━━━━━━━━━━━━━━━━━━━━╇━━━━━━━━━━━━━━━━━━━━━━━━╇━━━━━━━━━━━━━━━┩\n",
              "│ conv2d (<span style=\"color: #0087ff; text-decoration-color: #0087ff\">Conv2D</span>)                 │ (<span style=\"color: #00d7ff; text-decoration-color: #00d7ff\">None</span>, <span style=\"color: #00af00; text-decoration-color: #00af00\">26</span>, <span style=\"color: #00af00; text-decoration-color: #00af00\">26</span>, <span style=\"color: #00af00; text-decoration-color: #00af00\">32</span>)     │           <span style=\"color: #00af00; text-decoration-color: #00af00\">320</span> │\n",
              "├─────────────────────────────────┼────────────────────────┼───────────────┤\n",
              "│ max_pooling2d (<span style=\"color: #0087ff; text-decoration-color: #0087ff\">MaxPooling2D</span>)    │ (<span style=\"color: #00d7ff; text-decoration-color: #00d7ff\">None</span>, <span style=\"color: #00af00; text-decoration-color: #00af00\">13</span>, <span style=\"color: #00af00; text-decoration-color: #00af00\">13</span>, <span style=\"color: #00af00; text-decoration-color: #00af00\">32</span>)     │             <span style=\"color: #00af00; text-decoration-color: #00af00\">0</span> │\n",
              "├─────────────────────────────────┼────────────────────────┼───────────────┤\n",
              "│ flatten (<span style=\"color: #0087ff; text-decoration-color: #0087ff\">Flatten</span>)               │ (<span style=\"color: #00d7ff; text-decoration-color: #00d7ff\">None</span>, <span style=\"color: #00af00; text-decoration-color: #00af00\">5408</span>)           │             <span style=\"color: #00af00; text-decoration-color: #00af00\">0</span> │\n",
              "├─────────────────────────────────┼────────────────────────┼───────────────┤\n",
              "│ dense_8 (<span style=\"color: #0087ff; text-decoration-color: #0087ff\">Dense</span>)                 │ (<span style=\"color: #00d7ff; text-decoration-color: #00d7ff\">None</span>, <span style=\"color: #00af00; text-decoration-color: #00af00\">64</span>)             │       <span style=\"color: #00af00; text-decoration-color: #00af00\">346,176</span> │\n",
              "├─────────────────────────────────┼────────────────────────┼───────────────┤\n",
              "│ dense_9 (<span style=\"color: #0087ff; text-decoration-color: #0087ff\">Dense</span>)                 │ (<span style=\"color: #00d7ff; text-decoration-color: #00d7ff\">None</span>, <span style=\"color: #00af00; text-decoration-color: #00af00\">10</span>)             │           <span style=\"color: #00af00; text-decoration-color: #00af00\">650</span> │\n",
              "└─────────────────────────────────┴────────────────────────┴───────────────┘\n",
              "</pre>\n"
            ]
          },
          "metadata": {}
        },
        {
          "output_type": "display_data",
          "data": {
            "text/plain": [
              "\u001b[1m Total params: \u001b[0m\u001b[38;5;34m347,146\u001b[0m (1.32 MB)\n"
            ],
            "text/html": [
              "<pre style=\"white-space:pre;overflow-x:auto;line-height:normal;font-family:Menlo,'DejaVu Sans Mono',consolas,'Courier New',monospace\"><span style=\"font-weight: bold\"> Total params: </span><span style=\"color: #00af00; text-decoration-color: #00af00\">347,146</span> (1.32 MB)\n",
              "</pre>\n"
            ]
          },
          "metadata": {}
        },
        {
          "output_type": "display_data",
          "data": {
            "text/plain": [
              "\u001b[1m Trainable params: \u001b[0m\u001b[38;5;34m347,146\u001b[0m (1.32 MB)\n"
            ],
            "text/html": [
              "<pre style=\"white-space:pre;overflow-x:auto;line-height:normal;font-family:Menlo,'DejaVu Sans Mono',consolas,'Courier New',monospace\"><span style=\"font-weight: bold\"> Trainable params: </span><span style=\"color: #00af00; text-decoration-color: #00af00\">347,146</span> (1.32 MB)\n",
              "</pre>\n"
            ]
          },
          "metadata": {}
        },
        {
          "output_type": "display_data",
          "data": {
            "text/plain": [
              "\u001b[1m Non-trainable params: \u001b[0m\u001b[38;5;34m0\u001b[0m (0.00 B)\n"
            ],
            "text/html": [
              "<pre style=\"white-space:pre;overflow-x:auto;line-height:normal;font-family:Menlo,'DejaVu Sans Mono',consolas,'Courier New',monospace\"><span style=\"font-weight: bold\"> Non-trainable params: </span><span style=\"color: #00af00; text-decoration-color: #00af00\">0</span> (0.00 B)\n",
              "</pre>\n"
            ]
          },
          "metadata": {}
        },
        {
          "output_type": "stream",
          "name": "stdout",
          "text": [
            "\n",
            "===== CNN Weights & Biases =====\n",
            "\n",
            "[0] kernel\n",
            "Shape: (3, 3, 1, 32)\n",
            "Values:\n",
            " [[[[ 0.07406461  0.03865387  0.00391972  0.01206955 -0.04089389\n",
            "     0.01362865  0.01158558 -0.11142911 -0.06835311  0.01748186\n",
            "    -0.06074157 -0.13766629 -0.06290514  0.02637513 -0.0045646\n",
            "     0.04338001 -0.00935046  0.03632134 -0.06405718  0.09218241\n",
            "     0.13796742  0.03444038  0.0492727  -0.09084444 -0.09682111\n",
            "     0.05911142  0.07836187  0.01865989 -0.06424095 -0.03165834\n",
            "    -0.12263182  0.03647539]]\n",
            "\n",
            "  [[-0.13211587 -0.09537542  0.12499093  0.09414168 -0.11700249\n",
            "     0.13478114  0.08133878  0.00601205 -0.08649616 -0.05753596\n",
            "    -0.06407388 -0.14151745  0.0419549  -0.09668028  0.09173602\n",
            "    -0.02008252 -0.06394941  0.08823508  0.01257403  0.11385755\n",
            "     0.13267581 -0.013824   -0.11455006  0.0178574  -0.11712486\n",
            "     0.10769916  0.04793802  0.12637074 -0.01106462 -0.09933976\n",
            "     0.14090855  0.00659892]]\n",
            "\n",
            "  [[-0.0623088   0.06065828  0.06739962 -0.13929538  0.03666224\n",
            "     0.07925981 -0.05480912 -0.04724519  0.02642407 -0.06918843\n",
            "     0.01216552  0.0499296  -0.08169523  0.04420854  0.03561126\n",
            "     0.06792894  0.07605888  0.04929253 -0.04645416  0.01869944\n",
            "    -0.05432697 -0.00106092 -0.13052467 -0.05292125  0.08868484\n",
            "     0.13004805  0.01646745  0.11762954 -0.07017181 -0.04344239\n",
            "     0.00877503 -0.04611752]]]\n",
            "\n",
            "\n",
            " [[[ 0.06738003  0.1296484   0.12142341 -0.11244956  0.10965307\n",
            "    -0.11073533 -0.03582858 -0.09345797 -0.13965635  0.05373876\n",
            "     0.02897975 -0.0819544  -0.0578484   0.12161137  0.0481406\n",
            "     0.11201127  0.11018692 -0.01889534 -0.02743563 -0.09775919\n",
            "    -0.0934292  -0.04302954 -0.10621113 -0.07381934  0.12847172\n",
            "     0.05065057  0.03570428 -0.07131375  0.12776883  0.11658801\n",
            "    -0.09888361 -0.07668407]]\n",
            "\n",
            "  [[-0.10335982 -0.02109308 -0.0144356   0.03902754  0.09352981\n",
            "    -0.02241343  0.06634322  0.07418969 -0.02319978 -0.11300155\n",
            "    -0.03963985 -0.01190449 -0.10289102 -0.04257379  0.11279581\n",
            "    -0.06956228  0.04197177 -0.08013839 -0.1052917  -0.0662834\n",
            "    -0.13050148  0.03505151 -0.00823489 -0.07658505  0.03100055\n",
            "    -0.01315697  0.13441361 -0.09062225 -0.05073464 -0.07922098\n",
            "    -0.07243115 -0.06559295]]\n",
            "\n",
            "  [[-0.01329502 -0.01586853 -0.13274485 -0.13859817 -0.00532831\n",
            "    -0.07247601  0.13724045  0.10535094  0.09094855  0.12552004\n",
            "     0.0474433  -0.13250923  0.08206119  0.03279501  0.14189582\n",
            "     0.10990293  0.02767152  0.07529144  0.11592869  0.14002548\n",
            "     0.10324444 -0.10473301  0.12804388 -0.14009844 -0.1171585\n",
            "    -0.02448584  0.05707082  0.00893024 -0.09022603  0.05422771\n",
            "     0.02182515  0.07708275]]]\n",
            "\n",
            "\n",
            " [[[ 0.08672534  0.06654698  0.07886042 -0.09260106  0.13249142\n",
            "    -0.03725524  0.11938123 -0.11113388  0.0749471   0.06682865\n",
            "     0.11499481 -0.00274141  0.05311218  0.00431646 -0.03961536\n",
            "    -0.05559351  0.05066448  0.100779   -0.1374268   0.0458066\n",
            "     0.0118667   0.13617243 -0.02767078  0.05452643  0.13277392\n",
            "    -0.05033314  0.00705598 -0.02475789 -0.04335642 -0.12255249\n",
            "     0.10301274  0.11127086]]\n",
            "\n",
            "  [[ 0.12924789  0.13996746  0.1240852   0.13358836  0.02361606\n",
            "    -0.04929446 -0.08377578  0.09131239 -0.05505961 -0.12681437\n",
            "    -0.1192278  -0.06509176  0.07087931 -0.07857791 -0.00243656\n",
            "     0.01601346  0.06121562  0.05864374 -0.04113751 -0.02577654\n",
            "    -0.02631102 -0.04393569  0.00334282  0.0360069  -0.06841834\n",
            "     0.09446453 -0.03591147 -0.011151   -0.05527029  0.02502994\n",
            "     0.05252823 -0.04017524]]\n",
            "\n",
            "  [[ 0.07704718  0.09804296  0.07564746  0.07394812  0.1066336\n",
            "     0.08228832  0.05422175 -0.08376731  0.05849162  0.02084482\n",
            "     0.00540611  0.02156214 -0.05577399  0.0337176  -0.11740541\n",
            "    -0.03663049 -0.06281392 -0.10304026 -0.03328639  0.0023775\n",
            "    -0.00869834 -0.03928106  0.08621512 -0.01690704 -0.0528708\n",
            "     0.13186951  0.0723184   0.07157472  0.08870032 -0.03742471\n",
            "    -0.04510463 -0.10699749]]]]\n",
            "\n",
            "[1] bias\n",
            "Shape: (32,)\n",
            "Values:\n",
            " [0. 0. 0. 0. 0. 0. 0. 0. 0. 0. 0. 0. 0. 0. 0. 0. 0. 0. 0. 0. 0. 0. 0. 0.\n",
            " 0. 0. 0. 0. 0. 0. 0. 0.]\n",
            "\n",
            "[2] kernel\n",
            "Shape: (5408, 64)\n",
            "Values:\n",
            " [[ 0.0248684   0.00271247 -0.01302779 ... -0.02262433  0.02120231\n",
            "  -0.00606598]\n",
            " [ 0.02524758  0.01153189  0.00419224 ...  0.01640972 -0.01827902\n",
            "  -0.0134994 ]\n",
            " [ 0.02919495  0.01838237 -0.018257   ...  0.0226661  -0.02186605\n",
            "  -0.01695696]\n",
            " ...\n",
            " [ 0.00436082  0.02944715 -0.0285711  ...  0.0257808  -0.02016473\n",
            "  -0.00949374]\n",
            " [ 0.00362553 -0.02958197 -0.02209738 ... -0.01478522 -0.00580448\n",
            "  -0.03192018]\n",
            " [ 0.01545915 -0.00260835 -0.0084317  ...  0.00071466  0.02199988\n",
            "  -0.02458551]]\n",
            "\n",
            "[3] bias\n",
            "Shape: (64,)\n",
            "Values:\n",
            " [0. 0. 0. 0. 0. 0. 0. 0. 0. 0. 0. 0. 0. 0. 0. 0. 0. 0. 0. 0. 0. 0. 0. 0.\n",
            " 0. 0. 0. 0. 0. 0. 0. 0. 0. 0. 0. 0. 0. 0. 0. 0. 0. 0. 0. 0. 0. 0. 0. 0.\n",
            " 0. 0. 0. 0. 0. 0. 0. 0. 0. 0. 0. 0. 0. 0. 0. 0.]\n",
            "\n",
            "[4] kernel\n",
            "Shape: (64, 10)\n",
            "Values:\n",
            " [[ 6.33826554e-02  3.64808738e-02 -1.76260263e-01  2.46297628e-01\n",
            "   1.03378475e-01  1.58674806e-01 -2.15018734e-01 -5.80372065e-02\n",
            "   2.18608230e-01 -2.98525095e-02]\n",
            " [ 2.75383502e-01  3.49044800e-03  2.46656805e-01  2.83437341e-01\n",
            "   1.50603890e-01  1.91026598e-01 -2.35205069e-01  2.84498602e-01\n",
            "  -1.20074034e-01 -3.67895663e-02]\n",
            " [ 9.32108164e-02  2.09362566e-01 -1.92359671e-01 -1.03613734e-02\n",
            "   8.53684545e-02  1.48691386e-01 -3.99270505e-02  2.81604439e-01\n",
            "   2.55996972e-01 -1.32205337e-01]\n",
            " [-2.16523767e-01 -2.73495942e-01 -1.97699815e-01 -5.35178334e-02\n",
            "   1.61557049e-01  1.74609333e-01  8.09513927e-02  8.47510099e-02\n",
            "   5.22060096e-02 -2.50474274e-01]\n",
            " [-4.83427197e-02 -2.56906569e-01 -1.03917867e-01  2.51559407e-01\n",
            "  -1.87729433e-01 -4.73271608e-02  2.73296833e-02 -1.98704660e-01\n",
            "   2.55554765e-01  5.37198186e-02]\n",
            " [-1.51461601e-01  1.04508102e-01 -1.81782961e-01 -7.34643191e-02\n",
            "   1.80967480e-01  4.80167270e-02  6.38163984e-02  2.47535735e-01\n",
            "   9.42376852e-02  1.07944012e-01]\n",
            " [-1.94545090e-01  2.10008383e-01 -2.29726017e-01 -2.51054645e-01\n",
            "  -1.54983133e-01 -9.87183154e-02  8.60517621e-02 -2.02767938e-01\n",
            "  -5.96903712e-02 -1.67458504e-01]\n",
            " [-4.29061651e-02  4.94588912e-02  3.10306549e-02  1.26625597e-01\n",
            "  -7.27330893e-02  1.18374228e-02 -7.33240694e-02 -6.21078461e-02\n",
            "  -2.02712148e-01  5.37279546e-02]\n",
            " [-3.70144844e-02 -2.36139297e-02 -3.89537364e-02 -1.52221486e-01\n",
            "  -7.91451484e-02 -1.19831741e-01 -8.80951583e-02  1.18411034e-01\n",
            "  -7.47825205e-02 -5.04280031e-02]\n",
            " [-1.40674710e-01  1.36068493e-01 -2.72507399e-01  1.48087919e-01\n",
            "   3.54822278e-02  1.28732264e-01  2.57893115e-01  3.97923589e-03\n",
            "  -2.00572282e-01  1.29607081e-01]\n",
            " [ 2.66972482e-02 -1.92587674e-02  1.47063434e-02  2.12316126e-01\n",
            "   3.13219130e-02 -2.57564336e-01  1.16981298e-01 -1.83286369e-02\n",
            "  -1.06852442e-01  2.07374096e-01]\n",
            " [-2.57102430e-01 -2.55526841e-01 -1.86532274e-01 -3.26032639e-02\n",
            "  -2.39491656e-01 -1.16671234e-01 -1.73626840e-02  2.76737541e-01\n",
            "  -1.76565960e-01  1.58483237e-01]\n",
            " [ 2.97908783e-02  2.71136731e-01  1.49878561e-02 -1.12376705e-01\n",
            "   1.19817078e-01 -1.21710032e-01 -1.69945627e-01 -1.19378313e-01\n",
            "   2.21344233e-02 -1.80156678e-01]\n",
            " [-1.18043676e-01  2.02774942e-01  8.40499401e-02 -1.06322706e-01\n",
            "  -6.65146559e-02  1.39309585e-01 -1.90043971e-01  8.25005472e-02\n",
            "  -2.12362707e-01 -6.59039617e-03]\n",
            " [-9.63829309e-02 -9.00703222e-02 -2.17537075e-01 -4.05588746e-03\n",
            "   7.12173879e-02  1.72214210e-01 -2.43224472e-01 -2.04963550e-01\n",
            "   2.82465786e-01 -1.11289918e-02]\n",
            " [-2.28734165e-01 -1.12113163e-01 -2.71090895e-01  7.79185295e-02\n",
            "  -5.88264167e-02  8.70644748e-02  1.40016794e-01  1.31010562e-01\n",
            "  -3.32526863e-02  1.25713646e-01]\n",
            " [-2.49586359e-01  1.24488533e-01 -1.00728169e-01  1.85391814e-01\n",
            "  -1.99120462e-01  2.98697650e-02 -1.14101022e-01  9.63910818e-02\n",
            "  -1.26571491e-01  1.77880555e-01]\n",
            " [-2.03092322e-01  2.68016487e-01  2.65251905e-01 -1.37988880e-01\n",
            "   1.18318439e-01  2.63881296e-01 -1.21653542e-01  2.64824599e-01\n",
            "   2.55893499e-01  4.57222164e-02]\n",
            " [-4.58205789e-02 -1.33949548e-01 -1.81592524e-01  4.31838930e-02\n",
            "   4.85886931e-02  4.16855216e-02 -5.89377582e-02 -1.46959677e-01\n",
            "  -1.26496747e-01  7.94998705e-02]\n",
            " [-1.04302928e-01 -8.29139352e-02  1.22839361e-01 -1.91301346e-01\n",
            "  -1.27205923e-01  1.44417375e-01  1.20494485e-01  1.75472617e-01\n",
            "  -1.28441021e-01 -2.65088558e-01]\n",
            " [ 1.43104315e-01 -1.94351882e-01  2.72774905e-01  2.29755253e-01\n",
            "  -1.34750500e-01  4.67367470e-02  2.57377774e-01  6.64409995e-03\n",
            "  -2.74374753e-01 -1.20523736e-01]\n",
            " [ 2.26599187e-01 -2.64394104e-01  1.45659268e-01 -6.88836426e-02\n",
            "   1.98057801e-01  4.37982380e-02 -1.84408024e-01  2.67046124e-01\n",
            "   1.03685945e-01 -5.21147698e-02]\n",
            " [-1.43174455e-01  4.39591110e-02  1.73387110e-01  1.35445535e-01\n",
            "   1.05270356e-01 -1.97345585e-01 -2.71808207e-02 -9.22562927e-02\n",
            "   2.05516368e-01  1.23813778e-01]\n",
            " [-2.27673799e-01  1.96302056e-01 -1.91031426e-01  2.17464864e-02\n",
            "  -1.33755580e-01  2.27538496e-01 -1.71735913e-01 -9.68407691e-02\n",
            "  -1.63960993e-01  1.36458576e-01]\n",
            " [ 9.76831913e-02  1.35395706e-01  2.65012175e-01 -9.23957378e-02\n",
            "   2.67204732e-01  9.04159546e-02 -2.57532835e-01  1.95703626e-01\n",
            "   1.61554188e-01 -2.64857739e-01]\n",
            " [ 1.51703745e-01 -1.21939555e-01  1.87806815e-01 -4.55718935e-02\n",
            "   2.82491356e-01 -2.72719353e-01 -8.06672126e-02 -5.05745411e-05\n",
            "  -1.67607993e-01  5.60532808e-02]\n",
            " [-1.74326435e-01  2.95377076e-02 -2.57863462e-01 -8.57673138e-02\n",
            "  -5.47334552e-03  2.44845718e-01  1.80898488e-01  2.82524914e-01\n",
            "   1.73565745e-01 -1.45237058e-01]\n",
            " [-2.31600568e-01  1.40035719e-01  2.64951080e-01 -1.84790999e-01\n",
            "   4.06500697e-03 -1.65953189e-01  1.06565475e-01  1.56554967e-01\n",
            "   1.80945426e-01  1.33067667e-01]\n",
            " [-3.28219831e-02 -2.54091263e-01 -9.29231644e-02 -1.46557570e-01\n",
            "   1.33059114e-01 -2.44796515e-01 -1.88238665e-01  2.03815132e-01\n",
            "   2.45818794e-02 -2.70399988e-01]\n",
            " [-2.04119384e-02 -2.77398735e-01  2.66122133e-01  1.20190680e-02\n",
            "  -3.74379754e-03  1.00032032e-01 -1.27512515e-02  2.56697744e-01\n",
            "   7.57960379e-02 -5.17368317e-04]\n",
            " [-1.92057222e-01  1.89476818e-01 -7.23194480e-02 -1.99148372e-01\n",
            "   1.27699256e-01 -2.35346958e-01  2.67956257e-02 -6.31812960e-02\n",
            "   7.81424940e-02 -1.77699834e-01]\n",
            " [-7.99542516e-02 -2.23750412e-01  1.35060132e-01  2.00786591e-01\n",
            "   1.13946706e-01  2.46959597e-01  7.35895634e-02  1.97744697e-01\n",
            "   1.53563648e-01 -5.51986694e-03]\n",
            " [-6.85393810e-02  1.31287605e-01  1.71342969e-01 -1.69265032e-01\n",
            "  -4.76107001e-03  9.12126303e-02  4.19187546e-03 -9.55419838e-02\n",
            "   3.06885839e-02  1.35487378e-01]\n",
            " [-6.19509518e-02 -2.39121258e-01 -1.49683654e-01  2.33218044e-01\n",
            "   1.70466602e-02 -2.20637843e-01 -2.08529085e-01  4.41367328e-02\n",
            "  -1.75852850e-01  1.12348795e-02]\n",
            " [ 2.46456176e-01 -3.75624746e-02 -2.37738967e-01 -1.52530104e-01\n",
            "   1.31679535e-01  2.98720598e-02 -2.50147462e-01 -3.29404473e-02\n",
            "  -2.43359089e-01 -2.08158940e-01]\n",
            " [-2.87070274e-02 -5.08307219e-02 -1.74396768e-01  2.13001281e-01\n",
            "  -4.94396687e-03 -8.35253447e-02  1.21751428e-03 -4.32154536e-03\n",
            "  -3.77387851e-02  2.77155370e-01]\n",
            " [ 2.72423714e-01  2.20190257e-01  2.84478277e-01  1.69998974e-01\n",
            "   2.29698926e-01  5.14935255e-02  4.02385890e-02 -2.25865915e-01\n",
            "   1.62483782e-01 -2.79893130e-01]\n",
            " [-4.36404496e-02 -3.34832966e-02  1.76991761e-01  2.72809535e-01\n",
            "  -2.74981856e-02 -2.39895672e-01 -1.43430382e-01  5.44914901e-02\n",
            "  -2.80426532e-01 -2.54778564e-01]\n",
            " [ 1.20681375e-01 -2.77669132e-01 -1.47601083e-01  4.53642011e-03\n",
            "   1.23395920e-02  2.08257675e-01  2.50208586e-01  2.70567328e-01\n",
            "   7.35680461e-02 -1.72798321e-01]\n",
            " [-2.68193394e-01  1.12908065e-01  2.28316694e-01 -1.82148948e-01\n",
            "  -2.76656777e-01 -1.24581739e-01  2.48109013e-01  1.14547312e-01\n",
            "  -1.06683731e-01  5.97669482e-02]\n",
            " [-1.41699553e-01 -1.92723557e-01 -2.62631088e-01 -1.22636303e-01\n",
            "   1.16635382e-01  2.51794010e-01 -1.19122580e-01  1.19712591e-01\n",
            "   4.05323505e-02 -7.60669112e-02]\n",
            " [ 2.55691260e-01 -2.39166334e-01 -2.63203084e-02 -5.01678437e-02\n",
            "   2.19356090e-01  2.43929714e-01  1.01079911e-01 -3.85645926e-02\n",
            "  -2.71741420e-01 -2.71593958e-01]\n",
            " [ 5.17349243e-02 -2.70676851e-01 -2.64554203e-01 -1.00772366e-01\n",
            "  -7.53810406e-02  1.33895159e-01 -1.74663037e-01 -8.34655762e-03\n",
            "  -2.53645927e-01  3.92377377e-03]\n",
            " [-2.19375446e-01  1.74123794e-01  1.21367514e-01 -1.70983225e-01\n",
            "  -2.14468211e-01 -2.21030980e-01  1.43739074e-01 -1.29229352e-01\n",
            "  -5.64049482e-02 -2.02166587e-01]\n",
            " [ 2.60089964e-01  1.43792838e-01  1.32498085e-01 -1.24644339e-02\n",
            "  -3.27871740e-02 -2.72637010e-01  2.49034137e-01 -8.29632282e-02\n",
            "   1.73836827e-01 -1.59454376e-01]\n",
            " [ 2.00048923e-01 -2.58964688e-01  9.69404876e-02 -1.13029391e-01\n",
            "   2.56564409e-01  2.56724745e-01 -3.47438455e-02  2.26622790e-01\n",
            "   9.38238502e-02  1.42770231e-01]\n",
            " [-2.06333488e-01 -2.03108951e-01 -5.47319651e-04 -1.07038021e-02\n",
            "   1.49718672e-01 -2.47019231e-02  8.31259489e-02  4.35410738e-02\n",
            "   1.85222298e-01 -1.37979031e-01]\n",
            " [ 6.87304139e-02  7.63261318e-02  5.76573014e-02 -1.16649106e-01\n",
            "  -2.09622636e-01 -3.05851698e-02  1.93194985e-01 -2.61064827e-01\n",
            "   1.76317006e-01 -1.23311400e-01]\n",
            " [-2.16596410e-01  9.77405012e-02 -2.40385413e-01 -2.01372966e-01\n",
            "  -2.78068453e-01 -2.17819154e-01  1.22601807e-01  8.59248936e-02\n",
            "   1.22766167e-01  1.32070303e-01]\n",
            " [-1.20695427e-01 -8.77410173e-04  2.32781917e-01  1.61022812e-01\n",
            "   2.04557300e-01  2.81889468e-01  1.91958725e-01 -3.02183628e-02\n",
            "  -2.66101718e-01 -8.83904845e-02]\n",
            " [-2.02328503e-01 -2.19419092e-01 -7.59708583e-02  2.11773425e-01\n",
            "  -1.32477030e-01 -1.26046374e-01  1.54012471e-01  9.07725096e-03\n",
            "   3.84671688e-02 -1.56864956e-01]\n",
            " [-2.05246449e-01 -2.11095631e-01 -2.38749623e-01  7.83837140e-02\n",
            "  -1.83318675e-01  7.18775392e-03 -2.22770572e-01 -7.78975487e-02\n",
            "  -2.17079371e-01 -2.08868057e-01]\n",
            " [-2.12620139e-01  8.10363293e-02  1.81102365e-01  2.14195728e-01\n",
            "  -7.41177499e-02  2.68895954e-01 -1.02150574e-01 -1.88035399e-01\n",
            "   2.31771678e-01 -1.57981396e-01]\n",
            " [ 1.51090711e-01  2.13315874e-01  4.42262590e-02 -2.74975717e-01\n",
            "   5.52459657e-02  1.47955537e-01 -2.31480002e-01 -7.52488524e-02\n",
            "   1.35782808e-01 -2.29996756e-01]\n",
            " [ 1.13800675e-01 -2.51800478e-01  2.80112326e-02 -2.19316781e-01\n",
            "   1.91199511e-01  4.59608436e-02  2.30236262e-01  1.45718873e-01\n",
            "   1.39493108e-01 -3.39913368e-03]\n",
            " [ 3.39448154e-02 -5.74095100e-02  9.38399434e-02  3.02630365e-02\n",
            "  -2.24342749e-01 -2.04853162e-01  5.62492907e-02 -1.96711019e-01\n",
            "  -6.62482530e-02 -3.30388844e-02]\n",
            " [ 2.56537169e-01  2.05317050e-01  1.86104715e-01  3.51628065e-02\n",
            "  -2.39250243e-01 -2.17027664e-02 -1.37663960e-01  1.65013075e-02\n",
            "  -2.60198444e-01  2.12939709e-01]\n",
            " [-3.52180004e-02  1.16111338e-02  1.36506051e-01  7.45887756e-02\n",
            "   2.09141850e-01 -2.37441674e-01  1.32130325e-01  7.05694556e-02\n",
            "  -1.11870125e-01  8.09922814e-02]\n",
            " [-1.85799420e-01  2.49621600e-01 -1.01625323e-02 -2.04273313e-01\n",
            "  -1.17105588e-01 -9.99022275e-02 -7.36757964e-02  1.90123737e-01\n",
            "  -2.44118705e-01  2.67447144e-01]\n",
            " [ 2.21307367e-01  1.94015682e-01 -2.33219922e-01  2.24914283e-01\n",
            "  -1.11987710e-01 -1.00371271e-01  5.39121330e-02  2.24436074e-01\n",
            "   1.57196254e-01  1.74590111e-01]\n",
            " [ 4.64133024e-02  1.39279515e-01 -1.89707518e-01  1.05043888e-01\n",
            "   1.11218661e-01  4.57715690e-02  6.64449930e-02  2.02015072e-01\n",
            "   2.34211951e-01  2.98823118e-02]\n",
            " [ 1.52087182e-01  2.07481951e-01 -6.85599446e-03 -1.63435534e-01\n",
            "  -4.80180085e-02  2.33657211e-01 -1.39879316e-01  2.17298180e-01\n",
            "   1.40944123e-03  1.58029854e-01]\n",
            " [ 1.89387619e-01 -1.23455316e-01 -1.13100126e-01  1.55789256e-01\n",
            "  -4.17241454e-02 -5.64994514e-02 -1.13081470e-01  5.33885658e-02\n",
            "   7.15459883e-02 -8.48800093e-02]\n",
            " [-1.29866838e-01 -7.37330914e-02 -1.58917040e-01  9.82418656e-02\n",
            "   1.26151532e-01 -4.53896075e-02  4.85789180e-02 -2.19770372e-02\n",
            "  -5.86661994e-02  2.30743676e-01]]\n",
            "\n",
            "[5] bias\n",
            "Shape: (10,)\n",
            "Values:\n",
            " [0. 0. 0. 0. 0. 0. 0. 0. 0. 0.]\n"
          ]
        }
      ]
    }
  ]
}